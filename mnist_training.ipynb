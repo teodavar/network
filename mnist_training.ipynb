{
 "cells": [
  {
   "cell_type": "code",
   "execution_count": 14,
   "id": "bc958ba9-1e06-44b2-b148-cf845bca27c3",
   "metadata": {},
   "outputs": [],
   "source": [
    "import torch\n",
    "import torch.nn as nn\n",
    "import torch.optim as optim\n",
    "from torch.utils.data import DataLoader\n",
    "from torchvision import datasets, transforms\n",
    "import matplotlib.pyplot as plt\n",
    "import numpy as np\n",
    "from tqdm import tqdm\n",
    "\n",
    "from copy import deepcopy"
   ]
  },
  {
   "cell_type": "code",
   "execution_count": 15,
   "id": "ed610af9-dabd-4cfd-ad88-cba9f29e4c10",
   "metadata": {},
   "outputs": [
    {
     "name": "stdout",
     "output_type": "stream",
     "text": [
      "Using device: cuda\n"
     ]
    }
   ],
   "source": [
    "device = torch.device(\"cuda\" if torch.cuda.is_available() else \"cpu\")\n",
    "print(f\"Using device: {device}\")"
   ]
  },
  {
   "cell_type": "code",
   "execution_count": 16,
   "id": "ab4af1d5",
   "metadata": {},
   "outputs": [],
   "source": [
    "is_training_needed = True\n",
    "model_name = \"ResNet\" # valid values: LeNet, ResNet\n",
    "NUM_EPOCHS = 10\n",
    "LEARNING_RATE = 0.001"
   ]
  },
  {
   "cell_type": "code",
   "execution_count": 17,
   "id": "ea413e98",
   "metadata": {},
   "outputs": [
    {
     "name": "stdout",
     "output_type": "stream",
     "text": [
      "\n",
      "..... Loading MNIST dataset...\n",
      "Training samples: 60000\n",
      "Test samples: 10000\n"
     ]
    }
   ],
   "source": [
    "# Load MNIST data\n",
    "def load_mnist(batch_size=128):\n",
    "    transform = transforms.Compose([\n",
    "        transforms.ToTensor(),\n",
    "        transforms.Normalize((0.1307,), (0.3081,))\n",
    "    ])\n",
    "    \n",
    "    train_dataset = datasets.MNIST(root='./data', train=True, \n",
    "                                   download=True, transform=transform)\n",
    "    test_dataset = datasets.MNIST(root='./data', train=False, \n",
    "                                  download=True, transform=transform)\n",
    "    \n",
    "    train_loader = DataLoader(train_dataset, batch_size=batch_size, \n",
    "                             shuffle=True, num_workers=2)\n",
    "    test_loader = DataLoader(test_dataset, batch_size=batch_size, \n",
    "                            shuffle=False, num_workers=2)\n",
    "    \n",
    "    return train_loader, test_loader\n",
    "\n",
    "# Load data\n",
    "BATCH_SIZE = 128\n",
    "print(\"\\n..... Loading MNIST dataset...\")\n",
    "train_loader, test_loader = load_mnist(BATCH_SIZE)\n",
    "print(f\"Training samples: {len(train_loader.dataset)}\")\n",
    "print(f\"Test samples: {len(test_loader.dataset)}\")"
   ]
  },
  {
   "cell_type": "code",
   "execution_count": 18,
   "id": "e762a1fb",
   "metadata": {},
   "outputs": [],
   "source": [
    "class LeNet(nn.Module):\n",
    "    def __init__(self, num_classes=10):\n",
    "        super(LeNet, self).__init__()\n",
    "        self.conv1 = nn.Conv2d(1, 6, kernel_size=5, padding=2)\n",
    "        self.conv2 = nn.Conv2d(6, 16, kernel_size=5)\n",
    "        self.fc1 = nn.Linear(16 * 5 * 5, 120)\n",
    "        self.fc2 = nn.Linear(120, 84)\n",
    "        self.fc3 = nn.Linear(84, num_classes)\n",
    "        self.pool = nn.AvgPool2d(kernel_size=2, stride=2)\n",
    "        self.relu = nn.ReLU()\n",
    "        \n",
    "    def forward(self, x, mode=None):\n",
    "        x = self.pool(self.relu(self.conv1(x)))\n",
    "        x = self.pool(self.relu(self.conv2(x)))\n",
    "        x = x.view(-1, 16 * 5 * 5)\n",
    "        x = self.relu(self.fc1(x))\n",
    "        x = self.relu(self.fc2(x))\n",
    "        x = self.fc3(x)\n",
    "        if mode==\"Test\":\n",
    "            print(\"LeNet Forward Testing !!!!!!!!!\")\n",
    "        return x"
   ]
  },
  {
   "cell_type": "code",
   "execution_count": 19,
   "id": "76cf67a0",
   "metadata": {},
   "outputs": [],
   "source": [
    "class ResidualBlock(nn.Module):\n",
    "    def __init__(self, in_channels, out_channels, stride=1):\n",
    "        super(ResidualBlock, self).__init__()\n",
    "        self.conv1 = nn.Conv2d(in_channels, out_channels, kernel_size=3, \n",
    "                               stride=stride, padding=1, bias=False)\n",
    "        self.bn1 = nn.BatchNorm2d(out_channels)\n",
    "        self.conv2 = nn.Conv2d(out_channels, out_channels, kernel_size=3,\n",
    "                               stride=1, padding=1, bias=False)\n",
    "        self.bn2 = nn.BatchNorm2d(out_channels)\n",
    "        self.relu = nn.ReLU(inplace=True)\n",
    "        \n",
    "        self.shortcut = nn.Sequential()\n",
    "        if stride != 1 or in_channels != out_channels:\n",
    "            self.shortcut = nn.Sequential(\n",
    "                nn.Conv2d(in_channels, out_channels, kernel_size=1, \n",
    "                         stride=stride, bias=False),\n",
    "                nn.BatchNorm2d(out_channels)\n",
    "            )\n",
    "    \n",
    "    def forward(self, x, mode=None):\n",
    "        out = self.relu(self.bn1(self.conv1(x)))\n",
    "        out = self.bn2(self.conv2(out))\n",
    "        out += self.shortcut(x)\n",
    "        out = self.relu(out)\n",
    "        if mode==\"Test\":\n",
    "            print(\"ResidualBlock Forward Testing !!!!!!!!!\")\n",
    "        return out"
   ]
  },
  {
   "cell_type": "code",
   "execution_count": 20,
   "id": "70fcc02f",
   "metadata": {},
   "outputs": [],
   "source": [
    "class ResNet(nn.Module):\n",
    "    def __init__(self, num_classes=10):\n",
    "        super(ResNet, self).__init__()\n",
    "        self.conv1 = nn.Conv2d(1, 16, kernel_size=3, stride=1, padding=1, bias=False)\n",
    "        self.bn1 = nn.BatchNorm2d(16)\n",
    "        self.relu = nn.ReLU(inplace=True)\n",
    "        \n",
    "        self.layer1 = self._make_layer(16, 16, 2, stride=1)\n",
    "        self.layer2 = self._make_layer(16, 32, 2, stride=2)\n",
    "        self.layer3 = self._make_layer(32, 64, 2, stride=2)\n",
    "        \n",
    "        self.avg_pool = nn.AdaptiveAvgPool2d((1, 1))\n",
    "        self.fc = nn.Linear(64, num_classes)\n",
    "    \n",
    "    def _make_layer(self, in_channels, out_channels, num_blocks, stride):\n",
    "        layers = []\n",
    "        layers.append(ResidualBlock(in_channels, out_channels, stride))\n",
    "        for _ in range(1, num_blocks):\n",
    "            layers.append(ResidualBlock(out_channels, out_channels, 1))\n",
    "        return nn.Sequential(*layers)\n",
    "    \n",
    "    def forward(self, x, mode=None):\n",
    "        x = self.relu(self.bn1(self.conv1(x)))\n",
    "        x = self.layer1(x)\n",
    "        x = self.layer2(x)\n",
    "        x = self.layer3(x)\n",
    "        x = self.avg_pool(x)\n",
    "        x = x.view(x.size(0), -1)\n",
    "        x = self.fc(x)\n",
    "        if mode==\"Test\":\n",
    "            print(\"ResNet Forward Testing !!!!!!!!!\")\n",
    "        return x"
   ]
  },
  {
   "cell_type": "code",
   "execution_count": 21,
   "id": "cbcf5a0a",
   "metadata": {},
   "outputs": [],
   "source": [
    "def train_model(model, train_loader, criterion, optimizer, epoch):\n",
    "    model.train()\n",
    "    running_loss = 0.0\n",
    "    correct = 0\n",
    "    total = 0\n",
    "    \n",
    "    pbar = tqdm(train_loader, desc=f'Epoch {epoch}')\n",
    "    for batch_idx, (data, target) in enumerate(pbar):\n",
    "        data, target = data.to(device), target.to(device)\n",
    "        \n",
    "        optimizer.zero_grad()\n",
    "        output = model(data)\n",
    "        loss = criterion(output, target)\n",
    "        loss.backward()\n",
    "        optimizer.step()\n",
    "        \n",
    "        running_loss += loss.item()\n",
    "        _, predicted = output.max(1)\n",
    "        total += target.size(0)\n",
    "        correct += predicted.eq(target).sum().item()\n",
    "        \n",
    "        pbar.set_postfix({\n",
    "            'loss': running_loss / (batch_idx + 1),\n",
    "            'acc': 100. * correct / total\n",
    "        })\n",
    "    \n",
    "    epoch_loss = running_loss / len(train_loader)\n",
    "    epoch_acc = 100. * correct / total\n",
    "    \n",
    "    return epoch_loss, epoch_acc"
   ]
  },
  {
   "cell_type": "code",
   "execution_count": 22,
   "id": "3ba8dfc2",
   "metadata": {},
   "outputs": [],
   "source": [
    "def evaluate_model(model, test_loader, criterion, mode=None):\n",
    "    model.eval()\n",
    "    test_loss = 0\n",
    "    correct = 0\n",
    "    total = 0\n",
    "    \n",
    "    with torch.no_grad():\n",
    "        for data, target in tqdm(test_loader, desc='Evaluating'):\n",
    "            data, target = data.to(device), target.to(device)\n",
    "            output = model(data, mode)\n",
    "            test_loss += criterion(output, target).item()\n",
    "            _, predicted = output.max(1)\n",
    "            total += target.size(0)\n",
    "            correct += predicted.eq(target).sum().item()\n",
    "    \n",
    "    test_loss /= len(test_loader)\n",
    "    test_acc = 100. * correct / total\n",
    "    \n",
    "    return test_loss, test_acc"
   ]
  },
  {
   "cell_type": "code",
   "execution_count": 23,
   "id": "99801ee7",
   "metadata": {},
   "outputs": [],
   "source": [
    "def plot_history(history, model_name):\n",
    "    fig, (ax1, ax2) = plt.subplots(1, 2, figsize=(12, 4))\n",
    "    \n",
    "    # Loss plot\n",
    "    ax1.plot(history['train_loss'], label='Train Loss', linewidth=2)\n",
    "    ax1.plot(history['test_loss'], label='Test Loss', linewidth=2)\n",
    "    ax1.set_xlabel('Epoch', fontsize=12)\n",
    "    ax1.set_ylabel('Loss', fontsize=12)\n",
    "    ax1.set_title(f'{model_name} - Loss', fontsize=14, fontweight='bold')\n",
    "    ax1.legend()\n",
    "    ax1.grid(True, alpha=0.3)\n",
    "    \n",
    "    # Accuracy plot\n",
    "    ax2.plot(history['train_acc'], label='Train Accuracy', linewidth=2)\n",
    "    ax2.plot(history['test_acc'], label='Test Accuracy', linewidth=2)\n",
    "    ax2.set_xlabel('Epoch', fontsize=12)\n",
    "    ax2.set_ylabel('Accuracy (%)', fontsize=12)\n",
    "    ax2.set_title(f'{model_name} - Accuracy', fontsize=14, fontweight='bold')\n",
    "    ax2.legend()\n",
    "    ax2.grid(True, alpha=0.3)\n",
    "    \n",
    "    plt.tight_layout()\n",
    "    plt.savefig(f'{model_name}_training_history.png', dpi=300, bbox_inches='tight')\n",
    "    print(f'Saved training history plot: {model_name}_training_history.png')\n",
    "    plt.show()"
   ]
  },
  {
   "cell_type": "code",
   "execution_count": 24,
   "id": "9b9a1e47",
   "metadata": {},
   "outputs": [],
   "source": [
    "def initial_training(model_name):\n",
    "    if model_name == 'LeNet': \n",
    "        model = LeNet(num_classes=10)\n",
    "    else:\n",
    "        model = ResNet(num_classes=10)\n",
    "\n",
    "        print(f\"....... Training {model_name}\")\n",
    "\n",
    "    # Initialize model\n",
    "    model = model.to(device)\n",
    "    criterion = nn.CrossEntropyLoss()\n",
    "    optimizer = optim.Adam(model.parameters(), lr=LEARNING_RATE)\n",
    "    scheduler = optim.lr_scheduler.StepLR(optimizer, step_size=5, gamma=0.1)\n",
    "\n",
    "    # Training history\n",
    "    history = {\n",
    "        'train_loss': [],\n",
    "        'train_acc': [],\n",
    "        'test_loss': [],\n",
    "        'test_acc': []\n",
    "    }\n",
    "\n",
    "    # Training loop\n",
    "    print(f\"\\nTraining {model_name} for {NUM_EPOCHS} epochs...\")\n",
    "    for epoch in range(1, NUM_EPOCHS + 1):\n",
    "        train_loss, train_acc = train_model(model, train_loader, criterion, \n",
    "                                            optimizer, epoch)\n",
    "        test_loss, test_acc = evaluate_model(model, test_loader, criterion)\n",
    "        scheduler.step()\n",
    "        \n",
    "        history['train_loss'].append(train_loss)\n",
    "        history['train_acc'].append(train_acc)\n",
    "        history['test_loss'].append(test_loss)\n",
    "        history['test_acc'].append(test_acc)\n",
    "        \n",
    "        print(f'\\nEpoch {epoch}/{NUM_EPOCHS}:')\n",
    "        print(f'  Train Loss: {train_loss:.4f} | Train Acc: {train_acc:.2f}%')\n",
    "        print(f'  Test Loss:  {test_loss:.4f} | Test Acc:  {test_acc:.2f}%')\n",
    "\n",
    "    # Final evaluation\n",
    "    print(f\"\\n...... Final Evaluation for {model_name}...\")\n",
    "    final_test_loss, final_test_acc = evaluate_model(model, test_loader, criterion)\n",
    "    print(f\"{model_name} - FINAL RESULTS\")\n",
    "    print(f\"{'=' * 60}\")\n",
    "    print(f\"Final Test Loss: {final_test_loss:.4f}\")\n",
    "    print(f\"Final Test Accuracy: {final_test_acc:.2f}%\")\n",
    "\n",
    "    # Save model\n",
    "    print(f\"\\n..... Saving {model_name} model...\")\n",
    "    torch.save({\n",
    "        'epoch': NUM_EPOCHS,\n",
    "        'model_state_dict': model.state_dict(),\n",
    "        'optimizer_state_dict': optimizer.state_dict(),\n",
    "        'test_loss': final_test_loss,\n",
    "        'test_acc': final_test_acc,\n",
    "        'history': history\n",
    "    }, f'{model_name}_mnist.pth')\n",
    "    print(f\"Model saved as: {model_name}_mnist.pth\")\n",
    "\n",
    "    # Plot training history\n",
    "    print(f\"\\n....... Plotting training history for {model_name}...\")\n",
    "    plot_history(history, model_name)"
   ]
  },
  {
   "cell_type": "code",
   "execution_count": 25,
   "id": "369f4198",
   "metadata": {},
   "outputs": [],
   "source": [
    "def load_model(model_path, model_type='LeNet', device=None):\n",
    "\n",
    "    if device is None:\n",
    "        device = torch.device('cuda' if torch.cuda.is_available() else 'cpu')\n",
    "    \n",
    "    print(f\"Loading {model_type} model from {model_path}...\")\n",
    "    \n",
    "    # Initialize the model architecture\n",
    "    if model_type == 'LeNet':\n",
    "        model = LeNet(num_classes=10)\n",
    "    elif model_type == 'ResNet':\n",
    "        model = ResNet(num_classes=10)\n",
    "    else:\n",
    "        raise ValueError(f\"Unknown model type: {model_type}. Use 'LeNet' or 'ResNet'\")\n",
    "    \n",
    "    # Load checkpoint\n",
    "    checkpoint = torch.load(model_path, map_location=device)\n",
    "    \n",
    "    # Load model weights\n",
    "    model.load_state_dict(checkpoint['model_state_dict'])\n",
    "    model = model.to(device)\n",
    "    model.eval()  # Set to evaluation mode\n",
    "    \n",
    "    print(f\"✓ Model loaded successfully!\")\n",
    "    print(f\"  - Trained for {checkpoint['epoch']} epochs\")\n",
    "    print(f\"  - Test Accuracy: {checkpoint['test_acc']:.2f}%\")\n",
    "    print(f\"  - Test Loss: {checkpoint['test_loss']:.4f}\")\n",
    "    \n",
    "    # checkpoint: Dictionary containing training history and metrics\n",
    "    return model, checkpoint"
   ]
  },
  {
   "cell_type": "code",
   "execution_count": 26,
   "id": "51566b1f",
   "metadata": {},
   "outputs": [
    {
     "name": "stdout",
     "output_type": "stream",
     "text": [
      "....... Training ResNet\n",
      "\n",
      "Training ResNet for 10 epochs...\n"
     ]
    },
    {
     "name": "stderr",
     "output_type": "stream",
     "text": [
      "Epoch 1:   0%|          | 0/469 [00:00<?, ?it/s]"
     ]
    },
    {
     "name": "stderr",
     "output_type": "stream",
     "text": [
      "Epoch 1: 100%|██████████| 469/469 [00:20<00:00, 22.36it/s, loss=0.186, acc=95.4]\n",
      "Evaluating: 100%|██████████| 79/79 [00:08<00:00,  9.44it/s]\n"
     ]
    },
    {
     "name": "stdout",
     "output_type": "stream",
     "text": [
      "\n",
      "Epoch 1/10:\n",
      "  Train Loss: 0.1856 | Train Acc: 95.36%\n",
      "  Test Loss:  0.0461 | Test Acc:  98.70%\n"
     ]
    },
    {
     "name": "stderr",
     "output_type": "stream",
     "text": [
      "Epoch 2: 100%|██████████| 469/469 [00:19<00:00, 23.88it/s, loss=0.0436, acc=98.7]\n",
      "Evaluating: 100%|██████████| 79/79 [00:08<00:00,  9.50it/s]\n"
     ]
    },
    {
     "name": "stdout",
     "output_type": "stream",
     "text": [
      "\n",
      "Epoch 2/10:\n",
      "  Train Loss: 0.0436 | Train Acc: 98.72%\n",
      "  Test Loss:  0.0372 | Test Acc:  98.85%\n"
     ]
    },
    {
     "name": "stderr",
     "output_type": "stream",
     "text": [
      "Epoch 3: 100%|██████████| 469/469 [00:19<00:00, 23.92it/s, loss=0.0315, acc=99.1]\n",
      "Evaluating: 100%|██████████| 79/79 [00:08<00:00,  9.27it/s]\n"
     ]
    },
    {
     "name": "stdout",
     "output_type": "stream",
     "text": [
      "\n",
      "Epoch 3/10:\n",
      "  Train Loss: 0.0315 | Train Acc: 99.06%\n",
      "  Test Loss:  0.0687 | Test Acc:  97.88%\n"
     ]
    },
    {
     "name": "stderr",
     "output_type": "stream",
     "text": [
      "Epoch 4: 100%|██████████| 469/469 [00:19<00:00, 24.60it/s, loss=0.0256, acc=99.2]\n",
      "Evaluating: 100%|██████████| 79/79 [00:08<00:00,  9.65it/s]\n"
     ]
    },
    {
     "name": "stdout",
     "output_type": "stream",
     "text": [
      "\n",
      "Epoch 4/10:\n",
      "  Train Loss: 0.0256 | Train Acc: 99.21%\n",
      "  Test Loss:  0.0311 | Test Acc:  99.00%\n"
     ]
    },
    {
     "name": "stderr",
     "output_type": "stream",
     "text": [
      "Epoch 5: 100%|██████████| 469/469 [00:19<00:00, 24.31it/s, loss=0.022, acc=99.3] \n",
      "Evaluating: 100%|██████████| 79/79 [00:08<00:00,  9.85it/s]\n"
     ]
    },
    {
     "name": "stdout",
     "output_type": "stream",
     "text": [
      "\n",
      "Epoch 5/10:\n",
      "  Train Loss: 0.0220 | Train Acc: 99.29%\n",
      "  Test Loss:  0.0198 | Test Acc:  99.33%\n"
     ]
    },
    {
     "name": "stderr",
     "output_type": "stream",
     "text": [
      "Epoch 6: 100%|██████████| 469/469 [00:20<00:00, 23.05it/s, loss=0.00953, acc=99.7]\n",
      "Evaluating: 100%|██████████| 79/79 [00:08<00:00,  9.74it/s]\n"
     ]
    },
    {
     "name": "stdout",
     "output_type": "stream",
     "text": [
      "\n",
      "Epoch 6/10:\n",
      "  Train Loss: 0.0095 | Train Acc: 99.73%\n",
      "  Test Loss:  0.0138 | Test Acc:  99.47%\n"
     ]
    },
    {
     "name": "stderr",
     "output_type": "stream",
     "text": [
      "Epoch 7: 100%|██████████| 469/469 [00:19<00:00, 23.49it/s, loss=0.00726, acc=99.8]\n",
      "Evaluating: 100%|██████████| 79/79 [00:08<00:00,  9.68it/s]\n"
     ]
    },
    {
     "name": "stdout",
     "output_type": "stream",
     "text": [
      "\n",
      "Epoch 7/10:\n",
      "  Train Loss: 0.0073 | Train Acc: 99.82%\n",
      "  Test Loss:  0.0124 | Test Acc:  99.51%\n"
     ]
    },
    {
     "name": "stderr",
     "output_type": "stream",
     "text": [
      "Epoch 8: 100%|██████████| 469/469 [00:20<00:00, 22.79it/s, loss=0.00604, acc=99.8]\n",
      "Evaluating: 100%|██████████| 79/79 [00:08<00:00,  9.83it/s]\n"
     ]
    },
    {
     "name": "stdout",
     "output_type": "stream",
     "text": [
      "\n",
      "Epoch 8/10:\n",
      "  Train Loss: 0.0060 | Train Acc: 99.84%\n",
      "  Test Loss:  0.0128 | Test Acc:  99.55%\n"
     ]
    },
    {
     "name": "stderr",
     "output_type": "stream",
     "text": [
      "Epoch 9: 100%|██████████| 469/469 [00:21<00:00, 22.32it/s, loss=0.00567, acc=99.9]\n",
      "Evaluating: 100%|██████████| 79/79 [00:08<00:00,  9.19it/s]\n"
     ]
    },
    {
     "name": "stdout",
     "output_type": "stream",
     "text": [
      "\n",
      "Epoch 9/10:\n",
      "  Train Loss: 0.0057 | Train Acc: 99.86%\n",
      "  Test Loss:  0.0125 | Test Acc:  99.55%\n"
     ]
    },
    {
     "name": "stderr",
     "output_type": "stream",
     "text": [
      "Epoch 10: 100%|██████████| 469/469 [00:21<00:00, 21.58it/s, loss=0.00459, acc=99.9]\n",
      "Evaluating: 100%|██████████| 79/79 [00:08<00:00,  9.13it/s]\n"
     ]
    },
    {
     "name": "stdout",
     "output_type": "stream",
     "text": [
      "\n",
      "Epoch 10/10:\n",
      "  Train Loss: 0.0046 | Train Acc: 99.88%\n",
      "  Test Loss:  0.0136 | Test Acc:  99.52%\n",
      "\n",
      "...... Final Evaluation for ResNet...\n"
     ]
    },
    {
     "name": "stderr",
     "output_type": "stream",
     "text": [
      "Evaluating: 100%|██████████| 79/79 [00:08<00:00,  9.60it/s]\n"
     ]
    },
    {
     "name": "stdout",
     "output_type": "stream",
     "text": [
      "ResNet - FINAL RESULTS\n",
      "============================================================\n",
      "Final Test Loss: 0.0136\n",
      "Final Test Accuracy: 99.52%\n",
      "\n",
      "..... Saving ResNet model...\n",
      "Model saved as: ResNet_mnist.pth\n",
      "\n",
      "....... Plotting training history for ResNet...\n",
      "Saved training history plot: ResNet_training_history.png\n"
     ]
    },
    {
     "data": {
      "image/png": "[encoded data removed]",
      "text/plain": [
       "<Figure size 1200x400 with 2 Axes>"
      ]
     },
     "metadata": {},
     "output_type": "display_data"
    }
   ],
   "source": [
    "\n",
    "if is_training_needed: \n",
    "    initial_training(model_name)"
   ]
  },
  {
   "cell_type": "code",
   "execution_count": 27,
   "id": "94b160b8",
   "metadata": {},
   "outputs": [],
   "source": [
    "def test_loaded_model(model_path, model_type='LeNet', mode=None):\n",
    "\n",
    "    device = torch.device('cuda' if torch.cuda.is_available() else 'cpu')\n",
    "    \n",
    "    # Load the model\n",
    "    model, checkpoint = load_model(model_path, model_type, device)\n",
    "    \n",
    "    # Load test data\n",
    "    #_, test_loader = load_mnist(batch_size=128)\n",
    "    \n",
    "    # Evaluate the loaded model\n",
    "    criterion = nn.CrossEntropyLoss()\n",
    "    test_loss, test_acc = evaluate_model(model, test_loader, criterion, mode)\n",
    "    \n",
    "    print(f\"\\nVerification Test:\")\n",
    "    print(f\"  Test Loss: {test_loss:.4f}\")\n",
    "    print(f\"  Test Accuracy: {test_acc:.2f}%\")\n",
    "    \n",
    "    # Access training history if needed\n",
    "    if 'history' in checkpoint:\n",
    "        history = checkpoint['history']\n",
    "        print(f\"\\nTraining History Available:\")\n",
    "        print(f\"  - Number of epochs: {len(history['train_loss'])}\")\n",
    "        print(f\"  - Best train accuracy: {max(history['train_acc']):.2f}%\")\n",
    "        print(f\"  - Best test accuracy: {max(history['test_acc']):.2f}%\")\n",
    "    \n",
    "    return model, checkpoint"
   ]
  },
  {
   "cell_type": "code",
   "execution_count": 28,
   "id": "16491ab4",
   "metadata": {},
   "outputs": [
    {
     "name": "stderr",
     "output_type": "stream",
     "text": [
      "C:\\Users\\nydor_pt\\AppData\\Local\\Temp\\ipykernel_21536\\2664528886.py:17: FutureWarning: You are using `torch.load` with `weights_only=False` (the current default value), which uses the default pickle module implicitly. It is possible to construct malicious pickle data which will execute arbitrary code during unpickling (See https://github.com/pytorch/pytorch/blob/main/SECURITY.md#untrusted-models for more details). In a future release, the default value for `weights_only` will be flipped to `True`. This limits the functions that could be executed during unpickling. Arbitrary objects will no longer be allowed to be loaded via this mode unless they are explicitly allowlisted by the user via `torch.serialization.add_safe_globals`. We recommend you start setting `weights_only=True` for any use case where you don't have full control of the loaded file. Please open an issue on GitHub for any issues related to this experimental feature.\n",
      "  checkpoint = torch.load(model_path, map_location=device)\n"
     ]
    },
    {
     "name": "stdout",
     "output_type": "stream",
     "text": [
      "\n",
      "------TESTING MODEL -------\n",
      "\n",
      "Loading ResNet model from ResNet_mnist.pth...\n",
      "✓ Model loaded successfully!\n",
      "  - Trained for 10 epochs\n",
      "  - Test Accuracy: 99.52%\n",
      "  - Test Loss: 0.0136\n"
     ]
    },
    {
     "name": "stderr",
     "output_type": "stream",
     "text": [
      "Evaluating:   5%|▌         | 4/79 [00:05<01:23,  1.11s/it]"
     ]
    },
    {
     "name": "stdout",
     "output_type": "stream",
     "text": [
      "ResNet Forward Testing !!!!!!!!!\n",
      "ResNet Forward Testing !!!!!!!!!\n",
      "ResNet Forward Testing !!!!!!!!!\n",
      "ResNet Forward Testing !!!!!!!!!\n",
      "ResNet Forward Testing !!!!!!!!!\n",
      "ResNet Forward Testing !!!!!!!!!\n",
      "ResNet Forward Testing !!!!!!!!!\n"
     ]
    },
    {
     "name": "stderr",
     "output_type": "stream",
     "text": [
      "Evaluating:  22%|██▏       | 17/79 [00:06<00:10,  5.67it/s]"
     ]
    },
    {
     "name": "stdout",
     "output_type": "stream",
     "text": [
      "ResNet Forward Testing !!!!!!!!!\n",
      "ResNet Forward Testing !!!!!!!!!\n",
      "ResNet Forward Testing !!!!!!!!!\n",
      "ResNet Forward Testing !!!!!!!!!\n",
      "ResNet Forward Testing !!!!!!!!!\n",
      "ResNet Forward Testing !!!!!!!!!\n",
      "ResNet Forward Testing !!!!!!!!!\n",
      "ResNet Forward Testing !!!!!!!!!\n",
      "ResNet Forward Testing !!!!!!!!!\n",
      "ResNet Forward Testing !!!!!!!!!\n",
      "ResNet Forward Testing !!!!!!!!!\n",
      "ResNet Forward Testing !!!!!!!!!\n"
     ]
    },
    {
     "name": "stderr",
     "output_type": "stream",
     "text": [
      "Evaluating:  37%|███▋      | 29/79 [00:06<00:03, 12.78it/s]"
     ]
    },
    {
     "name": "stdout",
     "output_type": "stream",
     "text": [
      "ResNet Forward Testing !!!!!!!!!\n",
      "ResNet Forward Testing !!!!!!!!!\n",
      "ResNet Forward Testing !!!!!!!!!\n",
      "ResNet Forward Testing !!!!!!!!!\n",
      "ResNet Forward Testing !!!!!!!!!\n",
      "ResNet Forward Testing !!!!!!!!!\n",
      "ResNet Forward Testing !!!!!!!!!\n",
      "ResNet Forward Testing !!!!!!!!!\n",
      "ResNet Forward Testing !!!!!!!!!\n",
      "ResNet Forward Testing !!!!!!!!!\n"
     ]
    },
    {
     "name": "stderr",
     "output_type": "stream",
     "text": [
      "Evaluating:  44%|████▍     | 35/79 [00:06<00:02, 17.33it/s]"
     ]
    },
    {
     "name": "stdout",
     "output_type": "stream",
     "text": [
      "ResNet Forward Testing !!!!!!!!!\n",
      "ResNet Forward Testing !!!!!!!!!\n",
      "ResNet Forward Testing !!!!!!!!!\n",
      "ResNet Forward Testing !!!!!!!!!\n",
      "ResNet Forward Testing !!!!!!!!!\n",
      "ResNet Forward Testing !!!!!!!!!\n",
      "ResNet Forward Testing !!!!!!!!!\n",
      "ResNet Forward Testing !!!!!!!!!\n",
      "ResNet Forward Testing !!!!!!!!!\n",
      "ResNet Forward Testing !!!!!!!!!\n"
     ]
    },
    {
     "name": "stderr",
     "output_type": "stream",
     "text": [
      "Evaluating:  59%|█████▉    | 47/79 [00:06<00:01, 27.86it/s]"
     ]
    },
    {
     "name": "stdout",
     "output_type": "stream",
     "text": [
      "ResNet Forward Testing !!!!!!!!!\n",
      "ResNet Forward Testing !!!!!!!!!\n",
      "ResNet Forward Testing !!!!!!!!!\n",
      "ResNet Forward Testing !!!!!!!!!\n",
      "ResNet Forward Testing !!!!!!!!!\n",
      "ResNet Forward Testing !!!!!!!!!\n",
      "ResNet Forward Testing !!!!!!!!!\n",
      "ResNet Forward Testing !!!!!!!!!\n",
      "ResNet Forward Testing !!!!!!!!!\n",
      "ResNet Forward Testing !!!!!!!!!\n",
      "ResNet Forward Testing !!!!!!!!!\n"
     ]
    },
    {
     "name": "stderr",
     "output_type": "stream",
     "text": [
      "Evaluating:  75%|███████▍  | 59/79 [00:06<00:00, 36.00it/s]"
     ]
    },
    {
     "name": "stdout",
     "output_type": "stream",
     "text": [
      "ResNet Forward Testing !!!!!!!!!\n",
      "ResNet Forward Testing !!!!!!!!!\n",
      "ResNet Forward Testing !!!!!!!!!\n",
      "ResNet Forward Testing !!!!!!!!!\n",
      "ResNet Forward Testing !!!!!!!!!\n",
      "ResNet Forward Testing !!!!!!!!!\n",
      "ResNet Forward Testing !!!!!!!!!\n",
      "ResNet Forward Testing !!!!!!!!!\n",
      "ResNet Forward Testing !!!!!!!!!\n",
      "ResNet Forward Testing !!!!!!!!!\n",
      "ResNet Forward Testing !!!!!!!!!\n"
     ]
    },
    {
     "name": "stderr",
     "output_type": "stream",
     "text": [
      "Evaluating:  90%|████████▉ | 71/79 [00:07<00:00, 40.70it/s]"
     ]
    },
    {
     "name": "stdout",
     "output_type": "stream",
     "text": [
      "ResNet Forward Testing !!!!!!!!!\n",
      "ResNet Forward Testing !!!!!!!!!\n",
      "ResNet Forward Testing !!!!!!!!!\n",
      "ResNet Forward Testing !!!!!!!!!\n",
      "ResNet Forward Testing !!!!!!!!!\n",
      "ResNet Forward Testing !!!!!!!!!\n",
      "ResNet Forward Testing !!!!!!!!!\n",
      "ResNet Forward Testing !!!!!!!!!\n",
      "ResNet Forward Testing !!!!!!!!!\n",
      "ResNet Forward Testing !!!!!!!!!\n"
     ]
    },
    {
     "name": "stderr",
     "output_type": "stream",
     "text": [
      "Evaluating:  97%|█████████▋| 77/79 [00:07<00:00, 42.47it/s]"
     ]
    },
    {
     "name": "stdout",
     "output_type": "stream",
     "text": [
      "ResNet Forward Testing !!!!!!!!!\n",
      "ResNet Forward Testing !!!!!!!!!\n",
      "ResNet Forward Testing !!!!!!!!!\n",
      "ResNet Forward Testing !!!!!!!!!\n",
      "ResNet Forward Testing !!!!!!!!!\n",
      "ResNet Forward Testing !!!!!!!!!\n",
      "ResNet Forward Testing !!!!!!!!!\n",
      "ResNet Forward Testing !!!!!!!!!\n"
     ]
    },
    {
     "name": "stderr",
     "output_type": "stream",
     "text": [
      "Evaluating: 100%|██████████| 79/79 [00:08<00:00,  9.78it/s]"
     ]
    },
    {
     "name": "stdout",
     "output_type": "stream",
     "text": [
      "\n",
      "Verification Test:\n",
      "  Test Loss: 0.0136\n",
      "  Test Accuracy: 99.52%\n",
      "\n",
      "Training History Available:\n",
      "  - Number of epochs: 10\n",
      "  - Best train accuracy: 99.88%\n",
      "  - Best test accuracy: 99.55%\n"
     ]
    },
    {
     "name": "stderr",
     "output_type": "stream",
     "text": [
      "\n"
     ]
    }
   ],
   "source": [
    "\n",
    "\n",
    "model_filename = f'{model_name}_mnist.pth'\n",
    "print(\"\\n------TESTING MODEL -------\\n\")\n",
    "\n",
    "lenet_model, lenet_checkpoint = test_loaded_model(model_filename, model_name, mode=\"Test\")"
   ]
  },
  {
   "cell_type": "code",
   "execution_count": null,
   "id": "5185037a",
   "metadata": {},
   "outputs": [],
   "source": []
  }
 ],
 "metadata": {
  "kernelspec": {
   "display_name": "Python 3",
   "language": "python",
   "name": "python3"
  },
  "language_info": {
   "codemirror_mode": {
    "name": "ipython",
    "version": 3
   },
   "file_extension": ".py",
   "mimetype": "text/x-python",
   "name": "python",
   "nbconvert_exporter": "python",
   "pygments_lexer": "ipython3",
   "version": "3.12.7"
  }
 },
 "nbformat": 4,
 "nbformat_minor": 5
}
