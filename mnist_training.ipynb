{
 "cells": [
  {
   "cell_type": "code",
   "execution_count": 1,
   "id": "bc958ba9-1e06-44b2-b148-cf845bca27c3",
   "metadata": {},
   "outputs": [],
   "source": [
    "import torch\n",
    "import torch.nn as nn\n",
    "import torch.optim as optim\n",
    "from torch.utils.data import DataLoader\n",
    "from torchvision import datasets, transforms\n",
    "import matplotlib.pyplot as plt\n",
    "import numpy as np\n",
    "from tqdm import tqdm\n",
    "import sys\n",
    "from copy import deepcopy"
   ]
  },
  {
   "cell_type": "code",
   "execution_count": 2,
   "id": "ed610af9-dabd-4cfd-ad88-cba9f29e4c10",
   "metadata": {},
   "outputs": [
    {
     "name": "stdout",
     "output_type": "stream",
     "text": [
      "Using device: cuda\n"
     ]
    }
   ],
   "source": [
    "device = torch.device(\"cuda\" if torch.cuda.is_available() else \"cpu\")\n",
    "print(f\"Using device: {device}\")"
   ]
  },
  {
   "cell_type": "code",
   "execution_count": 3,
   "id": "ab4af1d5",
   "metadata": {},
   "outputs": [],
   "source": [
    "is_training_needed = False\n",
    "model_name = \"LeNet\" # valid values: LeNet, ResNet\n",
    "NUM_EPOCHS = 10\n",
    "LEARNING_RATE = 0.001"
   ]
  },
  {
   "cell_type": "code",
   "execution_count": 4,
   "id": "ea413e98",
   "metadata": {},
   "outputs": [
    {
     "name": "stdout",
     "output_type": "stream",
     "text": [
      "\n",
      "..... Loading MNIST dataset...\n",
      "Training samples: 60000\n",
      "Test samples: 10000\n"
     ]
    }
   ],
   "source": [
    "# Load MNIST data\n",
    "def load_mnist(batch_size=128):\n",
    "    transform = transforms.Compose([\n",
    "        transforms.ToTensor(),\n",
    "        transforms.Normalize((0.1307,), (0.3081,))\n",
    "    ])\n",
    "    \n",
    "    train_dataset = datasets.MNIST(root='./data', train=True, \n",
    "                                   download=True, transform=transform)\n",
    "    test_dataset = datasets.MNIST(root='./data', train=False, \n",
    "                                  download=True, transform=transform)\n",
    "    \n",
    "    train_loader = DataLoader(train_dataset, batch_size=batch_size, \n",
    "                             shuffle=True, num_workers=2)\n",
    "    test_loader = DataLoader(test_dataset, batch_size=batch_size, \n",
    "                            shuffle=False, num_workers=2)\n",
    "    \n",
    "    return train_loader, test_loader\n",
    "\n",
    "# Load data\n",
    "BATCH_SIZE = 128\n",
    "print(\"\\n..... Loading MNIST dataset...\")\n",
    "train_loader, test_loader = load_mnist(BATCH_SIZE)\n",
    "print(f\"Training samples: {len(train_loader.dataset)}\")\n",
    "print(f\"Test samples: {len(test_loader.dataset)}\")"
   ]
  },
  {
   "cell_type": "code",
   "execution_count": 5,
   "id": "e762a1fb",
   "metadata": {},
   "outputs": [],
   "source": [
    "class LeNet(nn.Module):\n",
    "    def __init__(self, num_classes=10):\n",
    "        super(LeNet, self).__init__()\n",
    "        self.conv1 = nn.Conv2d(1, 6, kernel_size=5, padding=2)\n",
    "        self.conv2 = nn.Conv2d(6, 16, kernel_size=5)\n",
    "        self.fc1 = nn.Linear(16 * 5 * 5, 120)\n",
    "        self.fc2 = nn.Linear(120, 84)\n",
    "        self.fc3 = nn.Linear(84, num_classes)\n",
    "        self.pool = nn.AvgPool2d(kernel_size=2, stride=2)\n",
    "        self.relu = nn.ReLU()\n",
    "        \n",
    "    def forward(self, x, mode=None,pp=False,c=(1,1,1,1)):\n",
    "        x = self.pool(self.relu(self.conv1(x)))\n",
    "        #layer 1\n",
    "        #print(\"hahahahahhahahahahhahahh!!!!!!!!!!!!!!!!\")\n",
    "        if pp:\n",
    "            print(x.shape)\n",
    "        if mode==\"compress\":\n",
    "            x=compress(x,c[0])\n",
    "        x = self.pool(self.relu(self.conv2(x)))\n",
    "        #layer 2\n",
    "        if pp:\n",
    "            print(x.shape)\n",
    "        if mode==\"compress\":\n",
    "            x=compress(x,c[1])\n",
    "        x = x.view(-1, 16 * 5 * 5)\n",
    "        x = self.relu(self.fc1(x))\n",
    "        #layer 3\n",
    "        if pp:\n",
    "            print(x.shape)\n",
    "        if mode==\"compress\":\n",
    "            x=compress(x,c[2])\n",
    "        x = self.relu(self.fc2(x))\n",
    "        #layer 4\n",
    "        if pp:\n",
    "            print(x.shape)\n",
    "        if mode==\"compress\":\n",
    "            x=compress(x,c[3])\n",
    "        x = self.fc3(x)\n",
    "        if mode==\"Test\":\n",
    "            print(\"LeNet Forward Testing !!!!!!!!!\")\n",
    "        #sys.exit()\n",
    "        return x"
   ]
  },
  {
   "cell_type": "code",
   "execution_count": 6,
   "id": "925f07d5",
   "metadata": {},
   "outputs": [],
   "source": [
    "def compress(x,c):\n",
    "    if c==1:\n",
    "        return x\n",
    "    "
   ]
  },
  {
   "cell_type": "code",
   "execution_count": 7,
   "id": "76cf67a0",
   "metadata": {},
   "outputs": [],
   "source": [
    "class ResidualBlock(nn.Module):\n",
    "    def __init__(self, in_channels, out_channels, stride=1):\n",
    "        super(ResidualBlock, self).__init__()\n",
    "        self.conv1 = nn.Conv2d(in_channels, out_channels, kernel_size=3, \n",
    "                               stride=stride, padding=1, bias=False)\n",
    "        self.bn1 = nn.BatchNorm2d(out_channels)\n",
    "        self.conv2 = nn.Conv2d(out_channels, out_channels, kernel_size=3,\n",
    "                               stride=1, padding=1, bias=False)\n",
    "        self.bn2 = nn.BatchNorm2d(out_channels)\n",
    "        self.relu = nn.ReLU(inplace=True)\n",
    "        \n",
    "        self.shortcut = nn.Sequential()\n",
    "        if stride != 1 or in_channels != out_channels:\n",
    "            self.shortcut = nn.Sequential(\n",
    "                nn.Conv2d(in_channels, out_channels, kernel_size=1, \n",
    "                         stride=stride, bias=False),\n",
    "                nn.BatchNorm2d(out_channels)\n",
    "            )\n",
    "    \n",
    "    def forward(self, x, mode=None):\n",
    "        out = self.relu(self.bn1(self.conv1(x)))\n",
    "        out = self.bn2(self.conv2(out))\n",
    "        out += self.shortcut(x)\n",
    "        out = self.relu(out)\n",
    "        if mode==\"Test\":\n",
    "            print(\"ResidualBlock Forward Testing !!!!!!!!!\")\n",
    "        return out"
   ]
  },
  {
   "cell_type": "code",
   "execution_count": 8,
   "id": "70fcc02f",
   "metadata": {},
   "outputs": [],
   "source": [
    "class ResNet(nn.Module):\n",
    "    def __init__(self, num_classes=10):\n",
    "        super(ResNet, self).__init__()\n",
    "        self.conv1 = nn.Conv2d(1, 16, kernel_size=3, stride=1, padding=1, bias=False)\n",
    "        self.bn1 = nn.BatchNorm2d(16)\n",
    "        self.relu = nn.ReLU(inplace=True)\n",
    "        \n",
    "        self.layer1 = self._make_layer(16, 16, 2, stride=1)\n",
    "        self.layer2 = self._make_layer(16, 32, 2, stride=2)\n",
    "        self.layer3 = self._make_layer(32, 64, 2, stride=2)\n",
    "        \n",
    "        self.avg_pool = nn.AdaptiveAvgPool2d((1, 1))\n",
    "        self.fc = nn.Linear(64, num_classes)\n",
    "    \n",
    "    def _make_layer(self, in_channels, out_channels, num_blocks, stride):\n",
    "        layers = []\n",
    "        layers.append(ResidualBlock(in_channels, out_channels, stride))\n",
    "        for _ in range(1, num_blocks):\n",
    "            layers.append(ResidualBlock(out_channels, out_channels, 1))\n",
    "        return nn.Sequential(*layers)\n",
    "    \n",
    "    def forward(self, x, mode=None):\n",
    "        x = self.relu(self.bn1(self.conv1(x)))\n",
    "        x = self.layer1(x)\n",
    "        x = self.layer2(x)\n",
    "        x = self.layer3(x)\n",
    "        x = self.avg_pool(x)\n",
    "        x = x.view(x.size(0), -1)\n",
    "        x = self.fc(x)\n",
    "        if mode==\"Test\":\n",
    "            print(\"ResNet Forward Testing !!!!!!!!!\")\n",
    "        return x"
   ]
  },
  {
   "cell_type": "code",
   "execution_count": 9,
   "id": "cbcf5a0a",
   "metadata": {},
   "outputs": [],
   "source": [
    "def train_model(model, train_loader, criterion, optimizer, epoch):\n",
    "    model.train()\n",
    "    running_loss = 0.0\n",
    "    correct = 0\n",
    "    total = 0\n",
    "    \n",
    "    pbar = tqdm(train_loader, desc=f'Epoch {epoch}')\n",
    "    for batch_idx, (data, target) in enumerate(pbar):\n",
    "        data, target = data.to(device), target.to(device)\n",
    "        \n",
    "        optimizer.zero_grad()\n",
    "        output = model(data)\n",
    "        loss = criterion(output, target)\n",
    "        loss.backward()\n",
    "        optimizer.step()\n",
    "        \n",
    "        running_loss += loss.item()\n",
    "        _, predicted = output.max(1)\n",
    "        total += target.size(0)\n",
    "        correct += predicted.eq(target).sum().item()\n",
    "        \n",
    "        pbar.set_postfix({\n",
    "            'loss': running_loss / (batch_idx + 1),\n",
    "            'acc': 100. * correct / total\n",
    "        })\n",
    "    \n",
    "    epoch_loss = running_loss / len(train_loader)\n",
    "    epoch_acc = 100. * correct / total\n",
    "    \n",
    "    return epoch_loss, epoch_acc"
   ]
  },
  {
   "cell_type": "code",
   "execution_count": 10,
   "id": "3ba8dfc2",
   "metadata": {},
   "outputs": [],
   "source": [
    "def evaluate_model(model, test_loader, criterion, mode=None):\n",
    "    model.eval()\n",
    "    test_loss = 0\n",
    "    correct = 0\n",
    "    total = 0\n",
    "    \n",
    "    with torch.no_grad():\n",
    "        for data, target in tqdm(test_loader, desc='Evaluating'):\n",
    "            data, target = data.to(device), target.to(device)\n",
    "            output = model(data, mode)\n",
    "            test_loss += criterion(output, target).item()\n",
    "            _, predicted = output.max(1)\n",
    "            total += target.size(0)\n",
    "            correct += predicted.eq(target).sum().item()\n",
    "    \n",
    "    test_loss /= len(test_loader)\n",
    "    test_acc = 100. * correct / total\n",
    "    \n",
    "    return test_loss, test_acc"
   ]
  },
  {
   "cell_type": "code",
   "execution_count": 11,
   "id": "99801ee7",
   "metadata": {},
   "outputs": [],
   "source": [
    "def plot_history(history, model_name):\n",
    "    fig, (ax1, ax2) = plt.subplots(1, 2, figsize=(12, 4))\n",
    "    \n",
    "    # Loss plot\n",
    "    ax1.plot(history['train_loss'], label='Train Loss', linewidth=2)\n",
    "    ax1.plot(history['test_loss'], label='Test Loss', linewidth=2)\n",
    "    ax1.set_xlabel('Epoch', fontsize=12)\n",
    "    ax1.set_ylabel('Loss', fontsize=12)\n",
    "    ax1.set_title(f'{model_name} - Loss', fontsize=14, fontweight='bold')\n",
    "    ax1.legend()\n",
    "    ax1.grid(True, alpha=0.3)\n",
    "    \n",
    "    # Accuracy plot\n",
    "    ax2.plot(history['train_acc'], label='Train Accuracy', linewidth=2)\n",
    "    ax2.plot(history['test_acc'], label='Test Accuracy', linewidth=2)\n",
    "    ax2.set_xlabel('Epoch', fontsize=12)\n",
    "    ax2.set_ylabel('Accuracy (%)', fontsize=12)\n",
    "    ax2.set_title(f'{model_name} - Accuracy', fontsize=14, fontweight='bold')\n",
    "    ax2.legend()\n",
    "    ax2.grid(True, alpha=0.3)\n",
    "    \n",
    "    plt.tight_layout()\n",
    "    plt.savefig(f'{model_name}_training_history.png', dpi=300, bbox_inches='tight')\n",
    "    print(f'Saved training history plot: {model_name}_training_history.png')\n",
    "    plt.show()"
   ]
  },
  {
   "cell_type": "code",
   "execution_count": 12,
   "id": "9b9a1e47",
   "metadata": {},
   "outputs": [],
   "source": [
    "def initial_training(model_name):\n",
    "    if model_name == 'LeNet': \n",
    "        model = LeNet(num_classes=10)\n",
    "    else:\n",
    "        model = ResNet(num_classes=10)\n",
    "\n",
    "        print(f\"....... Training {model_name}\")\n",
    "\n",
    "    # Initialize model\n",
    "    model = model.to(device)\n",
    "    criterion = nn.CrossEntropyLoss()\n",
    "    optimizer = optim.Adam(model.parameters(), lr=LEARNING_RATE)\n",
    "    scheduler = optim.lr_scheduler.StepLR(optimizer, step_size=5, gamma=0.1)\n",
    "\n",
    "    # Training history\n",
    "    history = {\n",
    "        'train_loss': [],\n",
    "        'train_acc': [],\n",
    "        'test_loss': [],\n",
    "        'test_acc': []\n",
    "    }\n",
    "\n",
    "    # Training loop\n",
    "    print(f\"\\nTraining {model_name} for {NUM_EPOCHS} epochs...\")\n",
    "    for epoch in range(1, NUM_EPOCHS + 1):\n",
    "        train_loss, train_acc = train_model(model, train_loader, criterion, \n",
    "                                            optimizer, epoch)\n",
    "        test_loss, test_acc = evaluate_model(model, test_loader, criterion)\n",
    "        scheduler.step()\n",
    "        \n",
    "        history['train_loss'].append(train_loss)\n",
    "        history['train_acc'].append(train_acc)\n",
    "        history['test_loss'].append(test_loss)\n",
    "        history['test_acc'].append(test_acc)\n",
    "        \n",
    "        print(f'\\nEpoch {epoch}/{NUM_EPOCHS}:')\n",
    "        print(f'  Train Loss: {train_loss:.4f} | Train Acc: {train_acc:.2f}%')\n",
    "        print(f'  Test Loss:  {test_loss:.4f} | Test Acc:  {test_acc:.2f}%')\n",
    "\n",
    "    # Final evaluation\n",
    "    print(f\"\\n...... Final Evaluation for {model_name}...\")\n",
    "    final_test_loss, final_test_acc = evaluate_model(model, test_loader, criterion)\n",
    "    print(f\"{model_name} - FINAL RESULTS\")\n",
    "    print(f\"{'=' * 60}\")\n",
    "    print(f\"Final Test Loss: {final_test_loss:.4f}\")\n",
    "    print(f\"Final Test Accuracy: {final_test_acc:.2f}%\")\n",
    "\n",
    "    # Save model\n",
    "    print(f\"\\n..... Saving {model_name} model...\")\n",
    "    torch.save({\n",
    "        'epoch': NUM_EPOCHS,\n",
    "        'model_state_dict': model.state_dict(),\n",
    "        'optimizer_state_dict': optimizer.state_dict(),\n",
    "        'test_loss': final_test_loss,\n",
    "        'test_acc': final_test_acc,\n",
    "        'history': history\n",
    "    }, f'{model_name}_mnist.pth')\n",
    "    print(f\"Model saved as: {model_name}_mnist.pth\")\n",
    "\n",
    "    # Plot training history\n",
    "    print(f\"\\n....... Plotting training history for {model_name}...\")\n",
    "    plot_history(history, model_name)"
   ]
  },
  {
   "cell_type": "code",
   "execution_count": 13,
   "id": "369f4198",
   "metadata": {},
   "outputs": [],
   "source": [
    "def load_model(model_path, model_type='LeNet', device=None):\n",
    "\n",
    "    if device is None:\n",
    "        device = torch.device('cuda' if torch.cuda.is_available() else 'cpu')\n",
    "    \n",
    "    print(f\"Loading {model_type} model from {model_path}...\")\n",
    "    \n",
    "    # Initialize the model architecture\n",
    "    if model_type == 'LeNet':\n",
    "        model = LeNet(num_classes=10)\n",
    "    elif model_type == 'ResNet':\n",
    "        model = ResNet(num_classes=10)\n",
    "    else:\n",
    "        raise ValueError(f\"Unknown model type: {model_type}. Use 'LeNet' or 'ResNet'\")\n",
    "    \n",
    "    # Load checkpoint\n",
    "    checkpoint = torch.load(model_path, map_location=device)\n",
    "    \n",
    "    # Load model weights\n",
    "    model.load_state_dict(checkpoint['model_state_dict'])\n",
    "    model = model.to(device)\n",
    "    model.eval()  # Set to evaluation mode\n",
    "    \n",
    "    print(f\"✓ Model loaded successfully!\")\n",
    "    print(f\"  - Trained for {checkpoint['epoch']} epochs\")\n",
    "    print(f\"  - Test Accuracy: {checkpoint['test_acc']:.2f}%\")\n",
    "    print(f\"  - Test Loss: {checkpoint['test_loss']:.4f}\")\n",
    "    \n",
    "    # checkpoint: Dictionary containing training history and metrics\n",
    "    return model, checkpoint"
   ]
  },
  {
   "cell_type": "code",
   "execution_count": 21,
   "id": "51566b1f",
   "metadata": {},
   "outputs": [],
   "source": [
    "\n",
    "if is_training_needed: \n",
    "    initial_training(model_name)"
   ]
  },
  {
   "cell_type": "code",
   "execution_count": 15,
   "id": "94b160b8",
   "metadata": {},
   "outputs": [],
   "source": [
    "def test_loaded_model(model_path, model_type='LeNet', mode=None):\n",
    "\n",
    "    device = torch.device('cuda' if torch.cuda.is_available() else 'cpu')\n",
    "    \n",
    "    # Load the model\n",
    "    model, checkpoint = load_model(model_path, model_type, device)\n",
    "    \n",
    "    # Load test data\n",
    "    #_, test_loader = load_mnist(batch_size=128)\n",
    "    \n",
    "    # Evaluate the loaded model\n",
    "    criterion = nn.CrossEntropyLoss()\n",
    "    test_loss, test_acc = evaluate_model(model, test_loader, criterion, mode)\n",
    "    \n",
    "    print(f\"\\nVerification Test:\")\n",
    "    print(f\"  Test Loss: {test_loss:.4f}\")\n",
    "    print(f\"  Test Accuracy: {test_acc:.2f}%\")\n",
    "    \n",
    "    # Access training history if needed\n",
    "    if 'history' in checkpoint:\n",
    "        history = checkpoint['history']\n",
    "        print(f\"\\nTraining History Available:\")\n",
    "        print(f\"  - Number of epochs: {len(history['train_loss'])}\")\n",
    "        print(f\"  - Best train accuracy: {max(history['train_acc']):.2f}%\")\n",
    "        print(f\"  - Best test accuracy: {max(history['test_acc']):.2f}%\")\n",
    "    \n",
    "    return model, checkpoint"
   ]
  },
  {
   "cell_type": "code",
   "execution_count": 16,
   "id": "16491ab4",
   "metadata": {},
   "outputs": [
    {
     "name": "stdout",
     "output_type": "stream",
     "text": [
      "\n",
      "------TESTING MODEL -------\n",
      "\n",
      "Loading LeNet model from LeNet_mnist.pth...\n"
     ]
    },
    {
     "name": "stderr",
     "output_type": "stream",
     "text": [
      "C:\\Users\\costa\\AppData\\Local\\Temp\\ipykernel_22572\\2664528886.py:17: FutureWarning: You are using `torch.load` with `weights_only=False` (the current default value), which uses the default pickle module implicitly. It is possible to construct malicious pickle data which will execute arbitrary code during unpickling (See https://github.com/pytorch/pytorch/blob/main/SECURITY.md#untrusted-models for more details). In a future release, the default value for `weights_only` will be flipped to `True`. This limits the functions that could be executed during unpickling. Arbitrary objects will no longer be allowed to be loaded via this mode unless they are explicitly allowlisted by the user via `torch.serialization.add_safe_globals`. We recommend you start setting `weights_only=True` for any use case where you don't have full control of the loaded file. Please open an issue on GitHub for any issues related to this experimental feature.\n",
      "  checkpoint = torch.load(model_path, map_location=device)\n"
     ]
    },
    {
     "name": "stdout",
     "output_type": "stream",
     "text": [
      "✓ Model loaded successfully!\n",
      "  - Trained for 10 epochs\n",
      "  - Test Accuracy: 99.07%\n",
      "  - Test Loss: 0.0281\n"
     ]
    },
    {
     "name": "stderr",
     "output_type": "stream",
     "text": [
      "Evaluating:   1%|▏         | 1/79 [00:14<18:22, 14.13s/it]"
     ]
    },
    {
     "name": "stdout",
     "output_type": "stream",
     "text": [
      "LeNet Forward Testing !!!!!!!!!\n",
      "LeNet Forward Testing !!!!!!!!!\n",
      "LeNet Forward Testing !!!!!!!!!\n",
      "LeNet Forward Testing !!!!!!!!!\n",
      "LeNet Forward Testing !!!!!!!!!\n"
     ]
    },
    {
     "name": "stderr",
     "output_type": "stream",
     "text": [
      "Evaluating:   8%|▊         | 6/79 [00:14<02:08,  1.76s/it]"
     ]
    },
    {
     "name": "stdout",
     "output_type": "stream",
     "text": [
      "LeNet Forward Testing !!!!!!!!!\n",
      "LeNet Forward Testing !!!!!!!!!\n",
      "LeNet Forward Testing !!!!!!!!!\n",
      "LeNet Forward Testing !!!!!!!!!\n",
      "LeNet Forward Testing !!!!!!!!!\n"
     ]
    },
    {
     "name": "stderr",
     "output_type": "stream",
     "text": [
      "Evaluating:  14%|█▍        | 11/79 [00:14<00:54,  1.24it/s]"
     ]
    },
    {
     "name": "stdout",
     "output_type": "stream",
     "text": [
      "LeNet Forward Testing !!!!!!!!!\n",
      "LeNet Forward Testing !!!!!!!!!\n",
      "LeNet Forward Testing !!!!!!!!!\n"
     ]
    },
    {
     "name": "stderr",
     "output_type": "stream",
     "text": [
      "Evaluating:  19%|█▉        | 15/79 [00:14<00:33,  1.94it/s]"
     ]
    },
    {
     "name": "stdout",
     "output_type": "stream",
     "text": [
      "LeNet Forward Testing !!!!!!!!!\n",
      "LeNet Forward Testing !!!!!!!!!\n",
      "LeNet Forward Testing !!!!!!!!!\n",
      "LeNet Forward Testing !!!!!!!!!\n"
     ]
    },
    {
     "name": "stderr",
     "output_type": "stream",
     "text": [
      "Evaluating:  27%|██▋       | 21/79 [00:15<00:16,  3.52it/s]"
     ]
    },
    {
     "name": "stdout",
     "output_type": "stream",
     "text": [
      "LeNet Forward Testing !!!!!!!!!\n",
      "LeNet Forward Testing !!!!!!!!!\n",
      "LeNet Forward Testing !!!!!!!!!\n",
      "LeNet Forward Testing !!!!!!!!!\n",
      "LeNet Forward Testing !!!!!!!!!\n"
     ]
    },
    {
     "name": "stderr",
     "output_type": "stream",
     "text": [
      "Evaluating:  34%|███▍      | 27/79 [00:15<00:08,  6.13it/s]"
     ]
    },
    {
     "name": "stdout",
     "output_type": "stream",
     "text": [
      "LeNet Forward Testing !!!!!!!!!\n",
      "LeNet Forward Testing !!!!!!!!!\n",
      "LeNet Forward Testing !!!!!!!!!\n",
      "LeNet Forward Testing !!!!!!!!!\n",
      "LeNet Forward Testing !!!!!!!!!\n"
     ]
    },
    {
     "name": "stderr",
     "output_type": "stream",
     "text": [
      "Evaluating:  38%|███▊      | 30/79 [00:15<00:06,  7.66it/s]"
     ]
    },
    {
     "name": "stdout",
     "output_type": "stream",
     "text": [
      "LeNet Forward Testing !!!!!!!!!\n",
      "LeNet Forward Testing !!!!!!!!!\n",
      "LeNet Forward Testing !!!!!!!!!\n",
      "LeNet Forward Testing !!!!!!!!!\n"
     ]
    },
    {
     "name": "stderr",
     "output_type": "stream",
     "text": [
      "Evaluating:  42%|████▏     | 33/79 [00:15<00:04,  9.42it/s]"
     ]
    },
    {
     "name": "stdout",
     "output_type": "stream",
     "text": [
      "LeNet Forward Testing !!!!!!!!!\n",
      "LeNet Forward Testing !!!!!!!!!\n",
      "LeNet Forward Testing !!!!!!!!!\n",
      "LeNet Forward Testing !!!!!!!!!\n"
     ]
    },
    {
     "name": "stderr",
     "output_type": "stream",
     "text": [
      "Evaluating:  51%|█████     | 40/79 [00:15<00:02, 14.06it/s]"
     ]
    },
    {
     "name": "stdout",
     "output_type": "stream",
     "text": [
      "LeNet Forward Testing !!!!!!!!!\n",
      "LeNet Forward Testing !!!!!!!!!\n",
      "LeNet Forward Testing !!!!!!!!!\n",
      "LeNet Forward Testing !!!!!!!!!\n",
      "LeNet Forward Testing !!!!!!!!!\n",
      "LeNet Forward Testing !!!!!!!!!\n"
     ]
    },
    {
     "name": "stderr",
     "output_type": "stream",
     "text": [
      "Evaluating:  56%|█████▌    | 44/79 [00:16<00:02, 16.77it/s]"
     ]
    },
    {
     "name": "stdout",
     "output_type": "stream",
     "text": [
      "LeNet Forward Testing !!!!!!!!!\n",
      "LeNet Forward Testing !!!!!!!!!\n",
      "LeNet Forward Testing !!!!!!!!!\n",
      "LeNet Forward Testing !!!!!!!!!\n",
      "LeNet Forward Testing !!!!!!!!!\n",
      "LeNet Forward Testing !!!!!!!!!\n"
     ]
    },
    {
     "name": "stderr",
     "output_type": "stream",
     "text": [
      "Evaluating:  65%|██████▍   | 51/79 [00:16<00:01, 21.16it/s]"
     ]
    },
    {
     "name": "stdout",
     "output_type": "stream",
     "text": [
      "LeNet Forward Testing !!!!!!!!!\n",
      "LeNet Forward Testing !!!!!!!!!\n",
      "LeNet Forward Testing !!!!!!!!!\n",
      "LeNet Forward Testing !!!!!!!!!\n",
      "LeNet Forward Testing !!!!!!!!!\n"
     ]
    },
    {
     "name": "stderr",
     "output_type": "stream",
     "text": [
      "Evaluating:  73%|███████▎  | 58/79 [00:16<00:00, 24.94it/s]"
     ]
    },
    {
     "name": "stdout",
     "output_type": "stream",
     "text": [
      "LeNet Forward Testing !!!!!!!!!\n",
      "LeNet Forward Testing !!!!!!!!!\n",
      "LeNet Forward Testing !!!!!!!!!\n",
      "LeNet Forward Testing !!!!!!!!!\n",
      "LeNet Forward Testing !!!!!!!!!\n",
      "LeNet Forward Testing !!!!!!!!!\n"
     ]
    },
    {
     "name": "stderr",
     "output_type": "stream",
     "text": [
      "Evaluating:  77%|███████▋  | 61/79 [00:16<00:00, 23.26it/s]"
     ]
    },
    {
     "name": "stdout",
     "output_type": "stream",
     "text": [
      "LeNet Forward Testing !!!!!!!!!\n",
      "LeNet Forward Testing !!!!!!!!!\n",
      "LeNet Forward Testing !!!!!!!!!\n",
      "LeNet Forward Testing !!!!!!!!!\n",
      "LeNet Forward Testing !!!!!!!!!\n"
     ]
    },
    {
     "name": "stderr",
     "output_type": "stream",
     "text": [
      "Evaluating:  85%|████████▍ | 67/79 [00:17<00:00, 22.76it/s]"
     ]
    },
    {
     "name": "stdout",
     "output_type": "stream",
     "text": [
      "LeNet Forward Testing !!!!!!!!!\n",
      "LeNet Forward Testing !!!!!!!!!\n",
      "LeNet Forward Testing !!!!!!!!!\n",
      "LeNet Forward Testing !!!!!!!!!\n",
      "LeNet Forward Testing !!!!!!!!!\n"
     ]
    },
    {
     "name": "stderr",
     "output_type": "stream",
     "text": [
      "Evaluating:  92%|█████████▏| 73/79 [00:17<00:00, 23.03it/s]"
     ]
    },
    {
     "name": "stdout",
     "output_type": "stream",
     "text": [
      "LeNet Forward Testing !!!!!!!!!\n",
      "LeNet Forward Testing !!!!!!!!!\n",
      "LeNet Forward Testing !!!!!!!!!\n",
      "LeNet Forward Testing !!!!!!!!!\n",
      "LeNet Forward Testing !!!!!!!!!\n",
      "LeNet Forward Testing !!!!!!!!!\n"
     ]
    },
    {
     "name": "stderr",
     "output_type": "stream",
     "text": [
      "Evaluating:  97%|█████████▋| 77/79 [00:17<00:00, 24.96it/s]"
     ]
    },
    {
     "name": "stdout",
     "output_type": "stream",
     "text": [
      "LeNet Forward Testing !!!!!!!!!\n",
      "LeNet Forward Testing !!!!!!!!!\n",
      "LeNet Forward Testing !!!!!!!!!\n",
      "LeNet Forward Testing !!!!!!!!!\n",
      "LeNet Forward Testing !!!!!!!!!\n"
     ]
    },
    {
     "name": "stderr",
     "output_type": "stream",
     "text": [
      "Evaluating: 100%|██████████| 79/79 [00:18<00:00,  4.26it/s]"
     ]
    },
    {
     "name": "stdout",
     "output_type": "stream",
     "text": [
      "\n",
      "Verification Test:\n",
      "  Test Loss: 0.0281\n",
      "  Test Accuracy: 99.07%\n",
      "\n",
      "Training History Available:\n",
      "  - Number of epochs: 10\n",
      "  - Best train accuracy: 99.31%\n",
      "  - Best test accuracy: 99.07%\n"
     ]
    },
    {
     "name": "stderr",
     "output_type": "stream",
     "text": [
      "\n"
     ]
    }
   ],
   "source": [
    "\n",
    "\n",
    "model_filename = f'{model_name}_mnist.pth'\n",
    "print(\"\\n------TESTING MODEL -------\\n\")\n",
    "\n",
    "lenet_model, lenet_checkpoint = test_loaded_model(model_filename, model_name, mode=\"Test\")"
   ]
  },
  {
   "cell_type": "code",
   "execution_count": 17,
   "id": "5185037a",
   "metadata": {},
   "outputs": [],
   "source": [
    "# Weight masking function\n",
    "def mask_layer_weights(model, layer_name, compression_ratio):\n",
    "    \"\"\"\n",
    "    Mask weights by magnitude:\n",
    "    - For Conv layers: mask entire output channels (kernels) by their L1 norm\n",
    "    - For Linear layers: mask individual weights by magnitude\n",
    "    \"\"\"\n",
    "    model_copy = deepcopy(model)\n",
    "    \n",
    "    # Get the layer\n",
    "    layer = dict(model_copy.named_modules())[layer_name]\n",
    "    \n",
    "    if hasattr(layer, 'weight'):\n",
    "        weights = layer.weight.data\n",
    "        \n",
    "        if isinstance(layer, nn.Conv2d):\n",
    "            # For conv layers: mask entire output channels\n",
    "            # weights shape: [out_channels, in_channels, kernel_h, kernel_w]\n",
    "            num_channels = weights.shape[0]\n",
    "            \n",
    "            # Calculate L1 norm for each output channel\n",
    "            channel_norms = torch.sum(torch.abs(weights), dim=(1, 2, 3))\n",
    "            \n",
    "            # Calculate how many channels to prune\n",
    "            num_to_prune = int(num_channels * compression_ratio / 100)\n",
    "            \n",
    "            # Find threshold\n",
    "            sorted_norms = torch.sort(channel_norms)[0]\n",
    "            threshold = sorted_norms[num_to_prune] if num_to_prune < num_channels else sorted_norms[-1]\n",
    "            \n",
    "            # Create mask for channels\n",
    "            mask = (channel_norms >= threshold).float()\n",
    "            \n",
    "            # Apply mask to all weights in each channel\n",
    "            for i in range(num_channels):\n",
    "                layer.weight.data[i] *= mask[i]\n",
    "            \n",
    "            # Also mask bias if it exists\n",
    "            if layer.bias is not None:\n",
    "                layer.bias.data *= mask\n",
    "                \n",
    "        elif isinstance(layer, nn.Linear):\n",
    "            # For linear layers: mask individual weights by magnitude\n",
    "            weight_magnitude = torch.abs(weights).flatten()\n",
    "            \n",
    "            # Calculate threshold\n",
    "            num_weights = weight_magnitude.numel()\n",
    "            num_to_prune = int(num_weights * compression_ratio / 100)\n",
    "            \n",
    "            # Find threshold value\n",
    "            sorted_weights = torch.sort(weight_magnitude)[0]\n",
    "            threshold = sorted_weights[num_to_prune] if num_to_prune < num_weights else sorted_weights[-1]\n",
    "            \n",
    "            # Create mask\n",
    "            mask = (torch.abs(weights) >= threshold).float()\n",
    "            layer.weight.data *= mask\n",
    "    \n",
    "    return model_copy"
   ]
  },
  {
   "cell_type": "code",
   "execution_count": 26,
   "id": "aed07c51",
   "metadata": {},
   "outputs": [],
   "source": [
    "# Plotting function for layer compression analysis\n",
    "def plot_layer_compression(model, layer_names, model_name):\n",
    "    compression_ratios = [0, 20, 40, 60, 80, 90, 95]\n",
    "    results = {}\n",
    "    criterion = nn.CrossEntropyLoss()\n",
    "    mode=None\n",
    "    bloss,baseline_acc = evaluate_model(model, test_loader, criterion, mode)\n",
    "    print(f\"\\n{model_name} - Baseline Accuracy: {baseline_acc:.2f}%\")\n",
    "    \n",
    "    for layer_name in layer_names:\n",
    "        accuracies = []\n",
    "        print(f\"\\nAnalyzing {layer_name}:\")\n",
    "        \n",
    "        for ratio in compression_ratios:\n",
    "            masked_model = mask_layer_weights(model, layer_name, ratio)\n",
    "\n",
    "            loss,acc = evaluate_model(masked_model, test_loader, criterion, mode)\n",
    "            accuracies.append(acc)\n",
    "            print(f\"  Compression {ratio}%: {acc:.2f}%\")\n",
    "        \n",
    "        results[layer_name] = accuracies\n",
    "    \n",
    "    # Plotting\n",
    "    plt.figure(figsize=(10, 6))\n",
    "    for layer_name, accuracies in results.items():\n",
    "        plt.plot(compression_ratios, accuracies, marker='o', label=layer_name, linewidth=2)\n",
    "    \n",
    "    plt.xlabel('Compression Ratio (%)', fontsize=12)\n",
    "    plt.ylabel('Test Accuracy (%)', fontsize=12)\n",
    "    plt.title(f'{model_name} - Accuracy vs Weight Compression by Layer', fontsize=14)\n",
    "    plt.legend()\n",
    "    plt.grid(True, alpha=0.3)\n",
    "    plt.axhline(y=baseline_acc, color='r', linestyle='--', alpha=0.5, label='Baseline')\n",
    "    plt.tight_layout()\n",
    "    plt.savefig(f'{model_name.replace(\" \", \"_\")}_compression.png', dpi=300)\n",
    "    plt.show()\n",
    "    \n",
    "    return results"
   ]
  },
  {
   "cell_type": "code",
   "execution_count": 27,
   "id": "d3253cde",
   "metadata": {},
   "outputs": [
    {
     "name": "stdout",
     "output_type": "stream",
     "text": [
      "\n",
      "==================================================\n",
      "Analyzing lenet_model layers...\n",
      "==================================================\n"
     ]
    },
    {
     "name": "stderr",
     "output_type": "stream",
     "text": [
      "Evaluating: 100%|██████████| 79/79 [00:32<00:00,  2.40it/s]\n"
     ]
    },
    {
     "name": "stdout",
     "output_type": "stream",
     "text": [
      "\n",
      "lenet_model - Baseline Accuracy: 99.07%\n",
      "\n",
      "Analyzing conv1:\n"
     ]
    },
    {
     "name": "stderr",
     "output_type": "stream",
     "text": [
      "Evaluating: 100%|██████████| 79/79 [00:17<00:00,  4.47it/s]\n"
     ]
    },
    {
     "name": "stdout",
     "output_type": "stream",
     "text": [
      "  Compression 0%: 99.07%\n"
     ]
    },
    {
     "name": "stderr",
     "output_type": "stream",
     "text": [
      "Evaluating: 100%|██████████| 79/79 [00:15<00:00,  5.01it/s]\n"
     ]
    },
    {
     "name": "stdout",
     "output_type": "stream",
     "text": [
      "  Compression 20%: 98.89%\n"
     ]
    },
    {
     "name": "stderr",
     "output_type": "stream",
     "text": [
      "Evaluating: 100%|██████████| 79/79 [00:18<00:00,  4.28it/s]\n"
     ]
    },
    {
     "name": "stdout",
     "output_type": "stream",
     "text": [
      "  Compression 40%: 97.77%\n"
     ]
    },
    {
     "name": "stderr",
     "output_type": "stream",
     "text": [
      "Evaluating: 100%|██████████| 79/79 [00:24<00:00,  3.22it/s]\n"
     ]
    },
    {
     "name": "stdout",
     "output_type": "stream",
     "text": [
      "  Compression 60%: 70.39%\n"
     ]
    },
    {
     "name": "stderr",
     "output_type": "stream",
     "text": [
      "Evaluating: 100%|██████████| 79/79 [00:25<00:00,  3.09it/s]\n"
     ]
    },
    {
     "name": "stdout",
     "output_type": "stream",
     "text": [
      "  Compression 80%: 72.66%\n"
     ]
    },
    {
     "name": "stderr",
     "output_type": "stream",
     "text": [
      "Evaluating: 100%|██████████| 79/79 [00:20<00:00,  3.84it/s]\n"
     ]
    },
    {
     "name": "stdout",
     "output_type": "stream",
     "text": [
      "  Compression 90%: 30.30%\n"
     ]
    },
    {
     "name": "stderr",
     "output_type": "stream",
     "text": [
      "Evaluating: 100%|██████████| 79/79 [00:20<00:00,  3.92it/s]\n"
     ]
    },
    {
     "name": "stdout",
     "output_type": "stream",
     "text": [
      "  Compression 95%: 30.30%\n",
      "\n",
      "Analyzing conv2:\n"
     ]
    },
    {
     "name": "stderr",
     "output_type": "stream",
     "text": [
      "Evaluating: 100%|██████████| 79/79 [00:17<00:00,  4.58it/s]\n"
     ]
    },
    {
     "name": "stdout",
     "output_type": "stream",
     "text": [
      "  Compression 0%: 99.07%\n"
     ]
    },
    {
     "name": "stderr",
     "output_type": "stream",
     "text": [
      "Evaluating: 100%|██████████| 79/79 [00:17<00:00,  4.55it/s]\n"
     ]
    },
    {
     "name": "stdout",
     "output_type": "stream",
     "text": [
      "  Compression 20%: 98.28%\n"
     ]
    },
    {
     "name": "stderr",
     "output_type": "stream",
     "text": [
      "Evaluating: 100%|██████████| 79/79 [00:19<00:00,  4.14it/s]\n"
     ]
    },
    {
     "name": "stdout",
     "output_type": "stream",
     "text": [
      "  Compression 40%: 95.54%\n"
     ]
    },
    {
     "name": "stderr",
     "output_type": "stream",
     "text": [
      "Evaluating: 100%|██████████| 79/79 [00:16<00:00,  4.79it/s]\n"
     ]
    },
    {
     "name": "stdout",
     "output_type": "stream",
     "text": [
      "  Compression 60%: 81.03%\n"
     ]
    },
    {
     "name": "stderr",
     "output_type": "stream",
     "text": [
      "Evaluating: 100%|██████████| 79/79 [00:15<00:00,  5.08it/s]\n"
     ]
    },
    {
     "name": "stdout",
     "output_type": "stream",
     "text": [
      "  Compression 80%: 72.07%\n"
     ]
    },
    {
     "name": "stderr",
     "output_type": "stream",
     "text": [
      "Evaluating: 100%|██████████| 79/79 [00:17<00:00,  4.50it/s]\n"
     ]
    },
    {
     "name": "stdout",
     "output_type": "stream",
     "text": [
      "  Compression 90%: 54.98%\n"
     ]
    },
    {
     "name": "stderr",
     "output_type": "stream",
     "text": [
      "Evaluating: 100%|██████████| 79/79 [00:17<00:00,  4.48it/s]\n"
     ]
    },
    {
     "name": "stdout",
     "output_type": "stream",
     "text": [
      "  Compression 95%: 21.03%\n",
      "\n",
      "Analyzing fc1:\n"
     ]
    },
    {
     "name": "stderr",
     "output_type": "stream",
     "text": [
      "Evaluating: 100%|██████████| 79/79 [00:15<00:00,  5.14it/s]\n"
     ]
    },
    {
     "name": "stdout",
     "output_type": "stream",
     "text": [
      "  Compression 0%: 99.07%\n"
     ]
    },
    {
     "name": "stderr",
     "output_type": "stream",
     "text": [
      "Evaluating: 100%|██████████| 79/79 [00:13<00:00,  5.93it/s]\n"
     ]
    },
    {
     "name": "stdout",
     "output_type": "stream",
     "text": [
      "  Compression 20%: 99.05%\n"
     ]
    },
    {
     "name": "stderr",
     "output_type": "stream",
     "text": [
      "Evaluating: 100%|██████████| 79/79 [00:12<00:00,  6.09it/s]\n"
     ]
    },
    {
     "name": "stdout",
     "output_type": "stream",
     "text": [
      "  Compression 40%: 98.99%\n"
     ]
    },
    {
     "name": "stderr",
     "output_type": "stream",
     "text": [
      "Evaluating: 100%|██████████| 79/79 [00:13<00:00,  5.84it/s]\n"
     ]
    },
    {
     "name": "stdout",
     "output_type": "stream",
     "text": [
      "  Compression 60%: 98.97%\n"
     ]
    },
    {
     "name": "stderr",
     "output_type": "stream",
     "text": [
      "Evaluating: 100%|██████████| 79/79 [00:16<00:00,  4.76it/s]\n"
     ]
    },
    {
     "name": "stdout",
     "output_type": "stream",
     "text": [
      "  Compression 80%: 98.71%\n"
     ]
    },
    {
     "name": "stderr",
     "output_type": "stream",
     "text": [
      "Evaluating: 100%|██████████| 79/79 [00:15<00:00,  5.15it/s]\n"
     ]
    },
    {
     "name": "stdout",
     "output_type": "stream",
     "text": [
      "  Compression 90%: 95.37%\n"
     ]
    },
    {
     "name": "stderr",
     "output_type": "stream",
     "text": [
      "Evaluating: 100%|██████████| 79/79 [00:21<00:00,  3.61it/s]\n"
     ]
    },
    {
     "name": "stdout",
     "output_type": "stream",
     "text": [
      "  Compression 95%: 84.22%\n",
      "\n",
      "Analyzing fc2:\n"
     ]
    },
    {
     "name": "stderr",
     "output_type": "stream",
     "text": [
      "Evaluating: 100%|██████████| 79/79 [00:23<00:00,  3.41it/s]\n"
     ]
    },
    {
     "name": "stdout",
     "output_type": "stream",
     "text": [
      "  Compression 0%: 99.07%\n"
     ]
    },
    {
     "name": "stderr",
     "output_type": "stream",
     "text": [
      "Evaluating: 100%|██████████| 79/79 [00:23<00:00,  3.31it/s]\n"
     ]
    },
    {
     "name": "stdout",
     "output_type": "stream",
     "text": [
      "  Compression 20%: 99.07%\n"
     ]
    },
    {
     "name": "stderr",
     "output_type": "stream",
     "text": [
      "Evaluating: 100%|██████████| 79/79 [00:22<00:00,  3.52it/s]\n"
     ]
    },
    {
     "name": "stdout",
     "output_type": "stream",
     "text": [
      "  Compression 40%: 99.00%\n"
     ]
    },
    {
     "name": "stderr",
     "output_type": "stream",
     "text": [
      "Evaluating: 100%|██████████| 79/79 [00:18<00:00,  4.27it/s]\n"
     ]
    },
    {
     "name": "stdout",
     "output_type": "stream",
     "text": [
      "  Compression 60%: 98.93%\n"
     ]
    },
    {
     "name": "stderr",
     "output_type": "stream",
     "text": [
      "Evaluating: 100%|██████████| 79/79 [00:17<00:00,  4.52it/s]\n"
     ]
    },
    {
     "name": "stdout",
     "output_type": "stream",
     "text": [
      "  Compression 80%: 98.90%\n"
     ]
    },
    {
     "name": "stderr",
     "output_type": "stream",
     "text": [
      "Evaluating: 100%|██████████| 79/79 [00:17<00:00,  4.41it/s]\n"
     ]
    },
    {
     "name": "stdout",
     "output_type": "stream",
     "text": [
      "  Compression 90%: 97.76%\n"
     ]
    },
    {
     "name": "stderr",
     "output_type": "stream",
     "text": [
      "Evaluating: 100%|██████████| 79/79 [00:24<00:00,  3.17it/s]\n"
     ]
    },
    {
     "name": "stdout",
     "output_type": "stream",
     "text": [
      "  Compression 95%: 90.46%\n",
      "\n",
      "Analyzing fc3:\n"
     ]
    },
    {
     "name": "stderr",
     "output_type": "stream",
     "text": [
      "Evaluating: 100%|██████████| 79/79 [00:23<00:00,  3.32it/s]\n"
     ]
    },
    {
     "name": "stdout",
     "output_type": "stream",
     "text": [
      "  Compression 0%: 99.07%\n"
     ]
    },
    {
     "name": "stderr",
     "output_type": "stream",
     "text": [
      "Evaluating: 100%|██████████| 79/79 [00:24<00:00,  3.28it/s]\n"
     ]
    },
    {
     "name": "stdout",
     "output_type": "stream",
     "text": [
      "  Compression 20%: 99.02%\n"
     ]
    },
    {
     "name": "stderr",
     "output_type": "stream",
     "text": [
      "Evaluating: 100%|██████████| 79/79 [00:20<00:00,  3.87it/s]\n"
     ]
    },
    {
     "name": "stdout",
     "output_type": "stream",
     "text": [
      "  Compression 40%: 98.85%\n"
     ]
    },
    {
     "name": "stderr",
     "output_type": "stream",
     "text": [
      "Evaluating: 100%|██████████| 79/79 [00:27<00:00,  2.85it/s]\n"
     ]
    },
    {
     "name": "stdout",
     "output_type": "stream",
     "text": [
      "  Compression 60%: 97.28%\n"
     ]
    },
    {
     "name": "stderr",
     "output_type": "stream",
     "text": [
      "Evaluating: 100%|██████████| 79/79 [00:27<00:00,  2.86it/s]\n"
     ]
    },
    {
     "name": "stdout",
     "output_type": "stream",
     "text": [
      "  Compression 80%: 95.59%\n"
     ]
    },
    {
     "name": "stderr",
     "output_type": "stream",
     "text": [
      "Evaluating: 100%|██████████| 79/79 [00:26<00:00,  3.03it/s]\n"
     ]
    },
    {
     "name": "stdout",
     "output_type": "stream",
     "text": [
      "  Compression 90%: 79.39%\n"
     ]
    },
    {
     "name": "stderr",
     "output_type": "stream",
     "text": [
      "Evaluating: 100%|██████████| 79/79 [00:25<00:00,  3.09it/s]\n"
     ]
    },
    {
     "name": "stdout",
     "output_type": "stream",
     "text": [
      "  Compression 95%: 61.67%\n"
     ]
    },
    {
     "data": {
      "image/png": "[encoded data removed]",
      "text/plain": [
       "<Figure size 1000x600 with 1 Axes>"
      ]
     },
     "metadata": {},
     "output_type": "display_data"
    }
   ],
   "source": [
    "# Analyze layers\n",
    "print(\"\\n\" + \"=\"*50)\n",
    "print(\"Analyzing lenet_model layers...\")\n",
    "print(\"=\"*50)\n",
    "simple_layers = ['conv1', 'conv2', 'fc1', 'fc2','fc3']\n",
    "results1 = plot_layer_compression(lenet_model, simple_layers, \"lenet_model\")"
   ]
  },
  {
   "cell_type": "code",
   "execution_count": 22,
   "id": "763c9b93",
   "metadata": {},
   "outputs": [
    {
     "name": "stdout",
     "output_type": "stream",
     "text": [
      "\n",
      "==================================================\n",
      "Analyzing lenet_model layers...\n",
      "==================================================\n"
     ]
    },
    {
     "ename": "TypeError",
     "evalue": "evaluate_model() missing 2 required positional arguments: 'test_loader' and 'criterion'",
     "output_type": "error",
     "traceback": [
      "\u001b[1;31m---------------------------------------------------------------------------\u001b[0m",
      "\u001b[1;31mTypeError\u001b[0m                                 Traceback (most recent call last)",
      "Cell \u001b[1;32mIn[22], line 6\u001b[0m\n\u001b[0;32m      4\u001b[0m \u001b[38;5;28mprint\u001b[39m(\u001b[38;5;124m\"\u001b[39m\u001b[38;5;124m=\u001b[39m\u001b[38;5;124m\"\u001b[39m\u001b[38;5;241m*\u001b[39m\u001b[38;5;241m50\u001b[39m)\n\u001b[0;32m      5\u001b[0m simple_layers \u001b[38;5;241m=\u001b[39m [\u001b[38;5;124m'\u001b[39m\u001b[38;5;124mconv1\u001b[39m\u001b[38;5;124m'\u001b[39m, \u001b[38;5;124m'\u001b[39m\u001b[38;5;124mconv2\u001b[39m\u001b[38;5;124m'\u001b[39m, \u001b[38;5;124m'\u001b[39m\u001b[38;5;124mfc1\u001b[39m\u001b[38;5;124m'\u001b[39m, \u001b[38;5;124m'\u001b[39m\u001b[38;5;124mfc2\u001b[39m\u001b[38;5;124m'\u001b[39m,\u001b[38;5;124m'\u001b[39m\u001b[38;5;124mfc3\u001b[39m\u001b[38;5;124m'\u001b[39m]\n\u001b[1;32m----> 6\u001b[0m results1 \u001b[38;5;241m=\u001b[39m \u001b[43mplot_layer_compression\u001b[49m\u001b[43m(\u001b[49m\u001b[43mlenet_model\u001b[49m\u001b[43m,\u001b[49m\u001b[43m \u001b[49m\u001b[43msimple_layers\u001b[49m\u001b[43m,\u001b[49m\u001b[43m \u001b[49m\u001b[38;5;124;43m\"\u001b[39;49m\u001b[38;5;124;43mlenet_model\u001b[39;49m\u001b[38;5;124;43m\"\u001b[39;49m\u001b[43m)\u001b[49m\n",
      "Cell \u001b[1;32mIn[18], line 6\u001b[0m, in \u001b[0;36mplot_layer_compression\u001b[1;34m(model, layer_names, model_name)\u001b[0m\n\u001b[0;32m      3\u001b[0m compression_ratios \u001b[38;5;241m=\u001b[39m [\u001b[38;5;241m0\u001b[39m, \u001b[38;5;241m20\u001b[39m, \u001b[38;5;241m40\u001b[39m, \u001b[38;5;241m60\u001b[39m, \u001b[38;5;241m80\u001b[39m, \u001b[38;5;241m90\u001b[39m, \u001b[38;5;241m95\u001b[39m]\n\u001b[0;32m      4\u001b[0m results \u001b[38;5;241m=\u001b[39m {}\n\u001b[1;32m----> 6\u001b[0m baseline_acc \u001b[38;5;241m=\u001b[39m \u001b[43mevaluate_model\u001b[49m\u001b[43m(\u001b[49m\u001b[43mmodel\u001b[49m\u001b[43m)\u001b[49m\n\u001b[0;32m      7\u001b[0m \u001b[38;5;28mprint\u001b[39m(\u001b[38;5;124mf\u001b[39m\u001b[38;5;124m\"\u001b[39m\u001b[38;5;130;01m\\n\u001b[39;00m\u001b[38;5;132;01m{\u001b[39;00mmodel_name\u001b[38;5;132;01m}\u001b[39;00m\u001b[38;5;124m - Baseline Accuracy: \u001b[39m\u001b[38;5;132;01m{\u001b[39;00mbaseline_acc\u001b[38;5;132;01m:\u001b[39;00m\u001b[38;5;124m.2f\u001b[39m\u001b[38;5;132;01m}\u001b[39;00m\u001b[38;5;124m%\u001b[39m\u001b[38;5;124m\"\u001b[39m)\n\u001b[0;32m      9\u001b[0m \u001b[38;5;28;01mfor\u001b[39;00m layer_name \u001b[38;5;129;01min\u001b[39;00m layer_names:\n",
      "\u001b[1;31mTypeError\u001b[0m: evaluate_model() missing 2 required positional arguments: 'test_loader' and 'criterion'"
     ]
    }
   ],
   "source": [
    "# Analyze layers\n",
    "print(\"\\n\" + \"=\"*50)\n",
    "print(\"Analyzing lenet_model layers...\")\n",
    "print(\"=\"*50)\n",
    "simple_layers = ['conv1', 'conv2', 'fc1', 'fc2','fc3']\n",
    "results1 = plot_layer_compression(lenet_model, simple_layers, \"lenet_model\")\n",
    "\n"
   ]
  }
 ],
 "metadata": {
  "kernelspec": {
   "display_name": "Python 3",
   "language": "python",
   "name": "python3"
  },
  "language_info": {
   "codemirror_mode": {
    "name": "ipython",
    "version": 3
   },
   "file_extension": ".py",
   "mimetype": "text/x-python",
   "name": "python",
   "nbconvert_exporter": "python",
   "pygments_lexer": "ipython3",
   "version": "3.12.7"
  }
 },
 "nbformat": 4,
 "nbformat_minor": 5
}
